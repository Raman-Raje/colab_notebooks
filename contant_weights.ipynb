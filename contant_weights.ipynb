{
  "nbformat": 4,
  "nbformat_minor": 0,
  "metadata": {
    "colab": {
      "name": "contant_weights.ipynb",
      "provenance": [],
      "collapsed_sections": [],
      "toc_visible": true,
      "authorship_tag": "ABX9TyOxbP/TNK7ewJo7OxML2Jp3",
      "include_colab_link": true
    },
    "kernelspec": {
      "name": "python3",
      "display_name": "Python 3"
    }
  },
  "cells": [
    {
      "cell_type": "markdown",
      "metadata": {
        "id": "view-in-github",
        "colab_type": "text"
      },
      "source": [
        "<a href=\"https://colab.research.google.com/github/Raman-Raje/colab_notebooks/blob/master/contant_weights.ipynb\" target=\"_parent\"><img src=\"https://colab.research.google.com/assets/colab-badge.svg\" alt=\"Open In Colab\"/></a>"
      ]
    },
    {
      "cell_type": "code",
      "metadata": {
        "id": "FLh7F2HuCp4l"
      },
      "source": [
        "import numpy as np\r\n",
        "\r\n",
        "import keras\r\n",
        "from keras.models import Sequential,Model\r\n",
        "from keras.layers import Dense"
      ],
      "execution_count": 1,
      "outputs": []
    },
    {
      "cell_type": "code",
      "metadata": {
        "id": "tQirWfNBDZ8R"
      },
      "source": [
        "model = Sequential()\r\n",
        "model.add(Dense(2,name=\"w_0\",activation=\"relu\"))\r\n",
        "model.add(Dense(1,name=\"w_1\",activation=\"relu\"))\r\n",
        "model.compile(loss= \"mean_squared_error\")"
      ],
      "execution_count": 3,
      "outputs": []
    },
    {
      "cell_type": "code",
      "metadata": {
        "id": "DK32uC81EVIn"
      },
      "source": [
        ""
      ],
      "execution_count": 5,
      "outputs": []
    },
    {
      "cell_type": "code",
      "metadata": {
        "colab": {
          "base_uri": "https://localhost:8080/"
        },
        "id": "t1EJCE7qFK6w",
        "outputId": "c797497a-0a26-47fc-d198-84e2828ce893"
      },
      "source": [
        "X,Y = np.random.randint(0,10,(10,2)),np.random.randint(0,10,(10,1))\r\n",
        "model.fit(X,Y)"
      ],
      "execution_count": 9,
      "outputs": [
        {
          "output_type": "stream",
          "text": [
            "1/1 [==============================] - 1s 564ms/step - loss: 31.2812\n"
          ],
          "name": "stdout"
        },
        {
          "output_type": "execute_result",
          "data": {
            "text/plain": [
              "<tensorflow.python.keras.callbacks.History at 0x7f4f1faa5150>"
            ]
          },
          "metadata": {
            "tags": []
          },
          "execution_count": 9
        }
      ]
    },
    {
      "cell_type": "code",
      "metadata": {
        "id": "IeF0_TTMEYHu"
      },
      "source": [
        "w_0 = np.ones((2,2),dtype=\"float32\")\r\n",
        "w_1 = np.ones((2,1),dtype=\"float32\")\r\n",
        "\r\n",
        "wb_1=np.zeros((1,),dtype=\"float32\")\r\n",
        "wb_0=np.zeros((2,),dtype=\"float32\") \r\n"
      ],
      "execution_count": 10,
      "outputs": []
    },
    {
      "cell_type": "code",
      "metadata": {
        "colab": {
          "base_uri": "https://localhost:8080/"
        },
        "id": "xiFPvB-5FwIt",
        "outputId": "d719f30f-026a-4987-8d75-0b422cb1c304"
      },
      "source": [
        "model.summary()"
      ],
      "execution_count": 11,
      "outputs": [
        {
          "output_type": "stream",
          "text": [
            "Model: \"sequential\"\n",
            "_________________________________________________________________\n",
            "Layer (type)                 Output Shape              Param #   \n",
            "=================================================================\n",
            "w_0 (Dense)                  (None, 2)                 6         \n",
            "_________________________________________________________________\n",
            "w_1 (Dense)                  (None, 1)                 3         \n",
            "=================================================================\n",
            "Total params: 9\n",
            "Trainable params: 9\n",
            "Non-trainable params: 0\n",
            "_________________________________________________________________\n"
          ],
          "name": "stdout"
        }
      ]
    },
    {
      "cell_type": "code",
      "metadata": {
        "id": "yV90eQA0HyiZ"
      },
      "source": [
        "ww_0 = []\r\n",
        "ww_0.append(w_0)\r\n",
        "ww_0.append(wb_0)\r\n",
        "model.layers[0].set_weights(ww_0)\r\n",
        "\r\n",
        "ww_1 = []\r\n",
        "ww_1.append(w_1)\r\n",
        "ww_1.append(wb_1)\r\n",
        "model.layers[1].set_weights(ww_1)"
      ],
      "execution_count": 17,
      "outputs": []
    },
    {
      "cell_type": "code",
      "metadata": {
        "colab": {
          "base_uri": "https://localhost:8080/"
        },
        "id": "kFeZytuoIJRQ",
        "outputId": "1f9d8f05-a569-4c2d-ac4f-ff0ca97b9a5c"
      },
      "source": [
        "X,Y = np.random.randint(0,10,(10,2)),np.random.randint(0,10,(10,1))\r\n",
        "for i in range(5):\r\n",
        "  print(\"++++++++weights+++++++++++\")\r\n",
        "  model.fit(X,Y,epochs=1)\r\n",
        "  for layer in model.layers:\r\n",
        "    print(np.round(layer.get_weights()[0],decimals=4))"
      ],
      "execution_count": 19,
      "outputs": [
        {
          "output_type": "stream",
          "text": [
            "++++++++weights+++++++++++\n",
            "1/1 [==============================] - 0s 4ms/step - loss: 174.9777\n",
            "[[0.9931 0.9931]\n",
            " [0.9934 0.9934]]\n",
            "[[0.9932]\n",
            " [0.9932]]\n",
            "++++++++weights+++++++++++\n",
            "1/1 [==============================] - 0s 3ms/step - loss: 174.1621\n",
            "[[0.9925 0.9925]\n",
            " [0.9924 0.9924]]\n",
            "[[0.9924]\n",
            " [0.9924]]\n",
            "++++++++weights+++++++++++\n",
            "1/1 [==============================] - 0s 3ms/step - loss: 173.3413\n",
            "[[0.9918 0.9918]\n",
            " [0.9914 0.9914]]\n",
            "[[0.9916]\n",
            " [0.9916]]\n",
            "++++++++weights+++++++++++\n",
            "1/1 [==============================] - 0s 3ms/step - loss: 172.5158\n",
            "[[0.9911 0.9911]\n",
            " [0.9904 0.9904]]\n",
            "[[0.9907]\n",
            " [0.9907]]\n",
            "++++++++weights+++++++++++\n",
            "1/1 [==============================] - 0s 3ms/step - loss: 171.6859\n",
            "[[0.9904 0.9904]\n",
            " [0.9894 0.9894]]\n",
            "[[0.9898]\n",
            " [0.9898]]\n"
          ],
          "name": "stdout"
        }
      ]
    },
    {
      "cell_type": "markdown",
      "metadata": {
        "id": "c4-3yA1NNC4L"
      },
      "source": [
        "# Observations:\r\n",
        "1. Hidden layers will lern the same thing as all the inputs from 1st layes wil be same.\r\n",
        "2. weights at each input will only change, but the weights at deep inside n/w will change linearly.\r\n",
        "3. It wil be a linear model."
      ]
    },
    {
      "cell_type": "code",
      "metadata": {
        "id": "ONea9CucJSVn"
      },
      "source": [
        ""
      ],
      "execution_count": null,
      "outputs": []
    }
  ]
}