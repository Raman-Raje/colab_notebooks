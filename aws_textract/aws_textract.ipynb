{
 "cells": [
  {
   "cell_type": "code",
   "execution_count": 1,
   "id": "structured-forest",
   "metadata": {},
   "outputs": [],
   "source": [
    "import re\n",
    "import os\n",
    "import io\n",
    "import math\n",
    "import boto3\n",
    "import pandas as pd\n",
    "from trp import Document"
   ]
  },
  {
   "cell_type": "code",
   "execution_count": 2,
   "id": "phantom-pierce",
   "metadata": {},
   "outputs": [],
   "source": [
    "# Document\n",
    "documentName = \"assignment.png\"\n",
    "REGION = \"us-east-2\""
   ]
  },
  {
   "cell_type": "code",
   "execution_count": 3,
   "id": "imperial-conversion",
   "metadata": {},
   "outputs": [],
   "source": [
    "# Amazon Textract client\n",
    "textract = boto3.client('textract',REGION)"
   ]
  },
  {
   "cell_type": "code",
   "execution_count": 4,
   "id": "premier-poverty",
   "metadata": {},
   "outputs": [],
   "source": [
    "with open(\"assignment.png\", 'rb') as image:\n",
    "    response = textract.analyze_document(Document={'Bytes': image.read()},FeatureTypes=['TABLES'])"
   ]
  },
  {
   "cell_type": "code",
   "execution_count": 5,
   "id": "otherwise-brief",
   "metadata": {},
   "outputs": [],
   "source": [
    "# get the doc object for response_json\n",
    "doc = Document(response)"
   ]
  },
  {
   "cell_type": "markdown",
   "id": "logical-charm",
   "metadata": {},
   "source": [
    "### Utility Functions"
   ]
  },
  {
   "cell_type": "code",
   "execution_count": 6,
   "id": "incoming-governor",
   "metadata": {},
   "outputs": [],
   "source": [
    "def get_page_table(doc):\n",
    "    \"\"\"\n",
    "    This method will give all tabular data in given page.\n",
    "    \"\"\"\n",
    "    page_table_dict = {}\n",
    "    for page_cnt,page in enumerate(doc.pages,start=1):\n",
    "        page_table_dict[page_cnt] = []\n",
    "        for table in page.tables:\n",
    "            temp_table = []\n",
    "            for r, row in enumerate(table.rows):\n",
    "                temp_row = []\n",
    "                for c, cell in enumerate(row.cells):\n",
    "                    temp_row.append(cell.text)\n",
    "                # add ech row to table\n",
    "                temp_table.append(temp_row)\n",
    "        \n",
    "            # add table in page to dict\n",
    "            page_table_dict[page_cnt].append(temp_table)\n",
    "        \n",
    "    \n",
    "    return page_table_dict\n",
    "                    \n",
    "          \n",
    "def get_table_df(page_table_dict):\n",
    "    table_df = {}\n",
    "    for page_cnt,tables in page_table_dict.items():\n",
    "        table_df[page_cnt] = []\n",
    "        for table in tables:\n",
    "            df = pd.DataFrame(table)\n",
    "            if not df.empty:\n",
    "                table_df[page_cnt].append(df)\n",
    "    return table_df\n",
    "\n",
    "def GetFileName(filename,extension = \".xlsx\"):\n",
    "    name = os.path.basename(filename)\n",
    "    f_name = name.split(\".\")[0] + extension\n",
    "    return f_name\n",
    "\n",
    "# save df to excel for better view\n",
    "def saveExcel(df_dict,filname,spaces = 1,single_sheet = True):\n",
    "    \n",
    "    output_path = GetFileName(filname)\n",
    "    writer = pd.ExcelWriter(output_path,engine='xlsxwriter')\n",
    "    \n",
    "    for page_cnt,tables in df_dict.items():\n",
    "        for table in tables:\n",
    "            # clean the df\n",
    "            table= table.replace(\"\\n\",\" \",regex=True)\n",
    "            table= table.replace(\" +\",\" \",regex=True)\n",
    "            table.to_excel(writer,\"page_{}\".format(page_cnt) , startcol = 0 , startrow = 0)\n",
    "        \n",
    "    writer.save()"
   ]
  },
  {
   "cell_type": "code",
   "execution_count": 7,
   "id": "given-cleaner",
   "metadata": {},
   "outputs": [],
   "source": [
    "page_table_dict = get_page_table(doc)\n",
    "table_df = get_table_df(page_table_dict)"
   ]
  },
  {
   "cell_type": "code",
   "execution_count": 8,
   "id": "pleasant-deputy",
   "metadata": {},
   "outputs": [],
   "source": [
    "tables = table_df[1]"
   ]
  },
  {
   "cell_type": "code",
   "execution_count": 9,
   "id": "painful-gross",
   "metadata": {},
   "outputs": [
    {
     "name": "stdout",
     "output_type": "stream",
     "text": [
      "Total tables found in given document :- 2\n"
     ]
    }
   ],
   "source": [
    "print(\"Total tables found in given document :- {}\".format(len(tables)))"
   ]
  },
  {
   "cell_type": "markdown",
   "id": "bronze-junior",
   "metadata": {},
   "source": [
    "#### Table_0"
   ]
  },
  {
   "cell_type": "code",
   "execution_count": 10,
   "id": "concerned-independence",
   "metadata": {},
   "outputs": [],
   "source": [
    "table = tables[0]\n",
    "table= table.replace(\"\\n\",\" \",regex=True)\n",
    "table= table.replace(\" +\",\" \",regex=True)"
   ]
  },
  {
   "cell_type": "code",
   "execution_count": 11,
   "id": "insured-prompt",
   "metadata": {},
   "outputs": [
    {
     "data": {
      "text/html": [
       "<div>\n",
       "<style scoped>\n",
       "    .dataframe tbody tr th:only-of-type {\n",
       "        vertical-align: middle;\n",
       "    }\n",
       "\n",
       "    .dataframe tbody tr th {\n",
       "        vertical-align: top;\n",
       "    }\n",
       "\n",
       "    .dataframe thead th {\n",
       "        text-align: right;\n",
       "    }\n",
       "</style>\n",
       "<table border=\"1\" class=\"dataframe\">\n",
       "  <thead>\n",
       "    <tr style=\"text-align: right;\">\n",
       "      <th></th>\n",
       "      <th>0</th>\n",
       "      <th>1</th>\n",
       "      <th>2</th>\n",
       "    </tr>\n",
       "  </thead>\n",
       "  <tbody>\n",
       "    <tr>\n",
       "      <th>0</th>\n",
       "      <td>4:Review the information on file for. accuracy...</td>\n",
       "      <td>box.</td>\n",
       "      <td></td>\n",
       "    </tr>\n",
       "    <tr>\n",
       "      <th>1</th>\n",
       "      <td></td>\n",
       "      <td>ON FILE</td>\n",
       "      <td>UPDATES</td>\n",
       "    </tr>\n",
       "    <tr>\n",
       "      <th>2</th>\n",
       "      <td>1 How many motorized vehicles licensed for roa...</td>\n",
       "      <td>2</td>\n",
       "      <td>2</td>\n",
       "    </tr>\n",
       "    <tr>\n",
       "      <th>3</th>\n",
       "      <td>2. How many residential properties are owned o...</td>\n",
       "      <td>1</td>\n",
       "      <td>0</td>\n",
       "    </tr>\n",
       "    <tr>\n",
       "      <th>4</th>\n",
       "      <td>3. How many watercraft, OTHER than canoes, Jet...</td>\n",
       "      <td>0</td>\n",
       "      <td>O</td>\n",
       "    </tr>\n",
       "    <tr>\n",
       "      <th>5</th>\n",
       "      <td>4. How many Jet Skis, Waverunners or other per...</td>\n",
       "      <td>0</td>\n",
       "      <td>0</td>\n",
       "    </tr>\n",
       "    <tr>\n",
       "      <th>6</th>\n",
       "      <td>5. What is the total number of drivers? (Inclu...</td>\n",
       "      <td>2</td>\n",
       "      <td>2</td>\n",
       "    </tr>\n",
       "    <tr>\n",
       "      <th>7</th>\n",
       "      <td>6. How many drivers are under the age of 22? (...</td>\n",
       "      <td>0</td>\n",
       "      <td>O</td>\n",
       "    </tr>\n",
       "    <tr>\n",
       "      <th>8</th>\n",
       "      <td>7. How many drivers are age 70 or over? (Inclu...</td>\n",
       "      <td>1</td>\n",
       "      <td>I</td>\n",
       "    </tr>\n",
       "    <tr>\n",
       "      <th>9</th>\n",
       "      <td>8. How many total moving violations have all d...</td>\n",
       "      <td>0</td>\n",
       "      <td>0</td>\n",
       "    </tr>\n",
       "    <tr>\n",
       "      <th>10</th>\n",
       "      <td>9. How many at-fault accidents have all driver...</td>\n",
       "      <td>0</td>\n",
       "      <td>O</td>\n",
       "    </tr>\n",
       "    <tr>\n",
       "      <th>11</th>\n",
       "      <td>10. How many antique, classic or collectible v...</td>\n",
       "      <td>0</td>\n",
       "      <td>O</td>\n",
       "    </tr>\n",
       "    <tr>\n",
       "      <th>12</th>\n",
       "      <td>11. How many residential properties owned or r...</td>\n",
       "      <td>0</td>\n",
       "      <td>O</td>\n",
       "    </tr>\n",
       "    <tr>\n",
       "      <th>13</th>\n",
       "      <td>12. How many acres of land do you or any membe...</td>\n",
       "      <td>0</td>\n",
       "      <td></td>\n",
       "    </tr>\n",
       "    <tr>\n",
       "      <th>14</th>\n",
       "      <td>13. a. How many driving incidents have all dri...</td>\n",
       "      <td>0</td>\n",
       "      <td>NOT_SELECTED, O</td>\n",
       "    </tr>\n",
       "    <tr>\n",
       "      <th>15</th>\n",
       "      <td>13. b. How many driving incidents have all dri...</td>\n",
       "      <td>0</td>\n",
       "      <td>O</td>\n",
       "    </tr>\n",
       "    <tr>\n",
       "      <th>16</th>\n",
       "      <td>14. How many arrests, citations or lioense sus...</td>\n",
       "      <td>0</td>\n",
       "      <td>O</td>\n",
       "    </tr>\n",
       "  </tbody>\n",
       "</table>\n",
       "</div>"
      ],
      "text/plain": [
       "                                                    0         1  \\\n",
       "0   4:Review the information on file for. accuracy...     box.    \n",
       "1                                                      ON FILE    \n",
       "2   1 How many motorized vehicles licensed for roa...        2    \n",
       "3   2. How many residential properties are owned o...        1    \n",
       "4   3. How many watercraft, OTHER than canoes, Jet...        0    \n",
       "5   4. How many Jet Skis, Waverunners or other per...        0    \n",
       "6   5. What is the total number of drivers? (Inclu...        2    \n",
       "7   6. How many drivers are under the age of 22? (...        0    \n",
       "8   7. How many drivers are age 70 or over? (Inclu...        1    \n",
       "9   8. How many total moving violations have all d...        0    \n",
       "10  9. How many at-fault accidents have all driver...        0    \n",
       "11  10. How many antique, classic or collectible v...        0    \n",
       "12  11. How many residential properties owned or r...        0    \n",
       "13  12. How many acres of land do you or any membe...        0    \n",
       "14  13. a. How many driving incidents have all dri...        0    \n",
       "15  13. b. How many driving incidents have all dri...        0    \n",
       "16  14. How many arrests, citations or lioense sus...        0    \n",
       "\n",
       "                   2  \n",
       "0                     \n",
       "1           UPDATES   \n",
       "2                 2   \n",
       "3                 0   \n",
       "4                 O   \n",
       "5                 0   \n",
       "6                 2   \n",
       "7                 O   \n",
       "8                 I   \n",
       "9                 0   \n",
       "10                O   \n",
       "11                O   \n",
       "12                O   \n",
       "13                    \n",
       "14  NOT_SELECTED, O   \n",
       "15                O   \n",
       "16                O   "
      ]
     },
     "execution_count": 11,
     "metadata": {},
     "output_type": "execute_result"
    }
   ],
   "source": [
    "table"
   ]
  },
  {
   "cell_type": "markdown",
   "id": "pending-campus",
   "metadata": {},
   "source": [
    "#### Table_1"
   ]
  },
  {
   "cell_type": "code",
   "execution_count": 12,
   "id": "quantitative-finding",
   "metadata": {},
   "outputs": [
    {
     "data": {
      "text/html": [
       "<div>\n",
       "<style scoped>\n",
       "    .dataframe tbody tr th:only-of-type {\n",
       "        vertical-align: middle;\n",
       "    }\n",
       "\n",
       "    .dataframe tbody tr th {\n",
       "        vertical-align: top;\n",
       "    }\n",
       "\n",
       "    .dataframe thead th {\n",
       "        text-align: right;\n",
       "    }\n",
       "</style>\n",
       "<table border=\"1\" class=\"dataframe\">\n",
       "  <thead>\n",
       "    <tr style=\"text-align: right;\">\n",
       "      <th></th>\n",
       "      <th>0</th>\n",
       "      <th>1</th>\n",
       "    </tr>\n",
       "  </thead>\n",
       "  <tbody>\n",
       "    <tr>\n",
       "      <th>0</th>\n",
       "      <td>CHECK</td>\n",
       "      <td>IF \"YES\"</td>\n",
       "    </tr>\n",
       "    <tr>\n",
       "      <th>1</th>\n",
       "      <td>15. Have you or any other driver had an arrest...</td>\n",
       "      <td></td>\n",
       "    </tr>\n",
       "    <tr>\n",
       "      <th>2</th>\n",
       "      <td>16 Have you or any member of your household be...</td>\n",
       "      <td></td>\n",
       "    </tr>\n",
       "    <tr>\n",
       "      <th>3</th>\n",
       "      <td>17. Do you or any member of your household hav...</td>\n",
       "      <td></td>\n",
       "    </tr>\n",
       "    <tr>\n",
       "      <th>4</th>\n",
       "      <td>18. Has any one driver had more than 3 moving ...</td>\n",
       "      <td></td>\n",
       "    </tr>\n",
       "  </tbody>\n",
       "</table>\n",
       "</div>"
      ],
      "text/plain": [
       "                                                   0          1\n",
       "0                                             CHECK   IF \"YES\" \n",
       "1  15. Have you or any other driver had an arrest...           \n",
       "2  16 Have you or any member of your household be...           \n",
       "3  17. Do you or any member of your household hav...           \n",
       "4  18. Has any one driver had more than 3 moving ...           "
      ]
     },
     "execution_count": 12,
     "metadata": {},
     "output_type": "execute_result"
    }
   ],
   "source": [
    "table = tables[1]\n",
    "table= table.replace(\"\\n\",\" \",regex=True)\n",
    "table= table.replace(\" +\",\" \",regex=True)\n",
    "table"
   ]
  },
  {
   "cell_type": "markdown",
   "id": "previous-divide",
   "metadata": {},
   "source": [
    "#### Save tables to excel for better view"
   ]
  },
  {
   "cell_type": "code",
   "execution_count": 13,
   "id": "experienced-reunion",
   "metadata": {},
   "outputs": [],
   "source": [
    "saveExcel(table_df,documentName)"
   ]
  },
  {
   "cell_type": "markdown",
   "id": "exciting-shakespeare",
   "metadata": {},
   "source": [
    "### Questionw With Answer Dictionary:"
   ]
  },
  {
   "cell_type": "code",
   "execution_count": 14,
   "id": "differential-plate",
   "metadata": {},
   "outputs": [],
   "source": [
    "table = tables[0]\n",
    "table= table.replace(\"\\n\",\" \",regex=True)\n",
    "table= table.replace(\" +\",\" \",regex=True)\n",
    "table.columns = [\"Questions\",\"Actual_Ans\",\"Written_Ans\"]"
   ]
  },
  {
   "cell_type": "code",
   "execution_count": 15,
   "id": "unauthorized-combining",
   "metadata": {},
   "outputs": [],
   "source": [
    "# questions are present in 0th colomn\n",
    "questions = table[\"Questions\"].values\n",
    "# written ans in 1st column\n",
    "written_ans = table[\"Written_Ans\"]"
   ]
  },
  {
   "cell_type": "markdown",
   "id": "occupational-bleeding",
   "metadata": {},
   "source": [
    "#### It it found that 0 is bieng detected as 'o' in many handwritten cases"
   ]
  },
  {
   "cell_type": "code",
   "execution_count": 16,
   "id": "typical-butter",
   "metadata": {},
   "outputs": [
    {
     "data": {
      "text/plain": [
       "0                     \n",
       "1             UPDATES \n",
       "2                   2 \n",
       "3                   0 \n",
       "4                   0 \n",
       "5                   0 \n",
       "6                   2 \n",
       "7                   0 \n",
       "8                   I \n",
       "9                   0 \n",
       "10                  0 \n",
       "11                  0 \n",
       "12                  0 \n",
       "13                    \n",
       "14    N0T_SELECTED, 0 \n",
       "15                  0 \n",
       "16                  0 \n",
       "Name: Written_Ans, dtype: object"
      ]
     },
     "execution_count": 16,
     "metadata": {},
     "output_type": "execute_result"
    }
   ],
   "source": [
    "# it it found that 0 is bieng detected as o in many handwritten cases\n",
    "written_ans = written_ans.replace(r\"(?i)o\",'0',regex=True,)\n",
    "written_ans"
   ]
  },
  {
   "cell_type": "code",
   "execution_count": 23,
   "id": "lesser-lease",
   "metadata": {},
   "outputs": [
    {
     "name": "stdout",
     "output_type": "stream",
     "text": [
      "++++++++++++[Questions & Ans]++++++++++++++\n",
      "1 How many motorized vehicles licensed for road use (i.e., motorhomes, motorcycles, cars, etc.) are owned (titled or registered to), leased, rented, or regularly operated by you or any member of your household? (See page 3 for details. Do not count antique, classic, or collectible vehicles - see question 10 ) \n",
      "2 \n",
      "++++++++++++[Questions & Ans]++++++++++++++\n",
      "2. How many residential properties are owned or rented by you or any member of your household? 1-4 family units are eligible and should be counted as one property. Do not include residential properties that are covered under a Commercial General Liability Policy or other non-personal Premises Liability Policy because they are excluded from coverage. (See page 3 for details.) \n",
      "0 \n",
      "++++++++++++[Questions & Ans]++++++++++++++\n",
      "3. How many watercraft, OTHER than canoes, Jet Skis, Waverunners or other personal watercraft, are owned or regularty operated by you or any member of your household? (See page 3 for details.) \n",
      "0 \n",
      "++++++++++++[Questions & Ans]++++++++++++++\n",
      "4. How many Jet Skis, Waverunners or other personal watercraft are owned or regularly operated by you or any member of your household? \n",
      "0 \n",
      "++++++++++++[Questions & Ans]++++++++++++++\n",
      "5. What is the total number of drivers? (Include drivers with a learner's permit or valid driver's license See the definition of driver on page 3.) \n",
      "2 \n",
      "++++++++++++[Questions & Ans]++++++++++++++\n",
      "6. How many drivers are under the age of 22? (Include drivers with a learner's permit or valid driver's license.) \n",
      "0 \n",
      "++++++++++++[Questions & Ans]++++++++++++++\n",
      "8. How many total moving violations have all drivers had within the last 3 years? Include DWI/DUI incidents within the last 5 years or 3 years in MT. (Update question 23.) \n",
      "0 \n",
      "++++++++++++[Questions & Ans]++++++++++++++\n",
      "9. How many at-fault accidents have all drivers had in the last 3 years? (Update question 23.) \n",
      "0 \n",
      "++++++++++++[Questions & Ans]++++++++++++++\n",
      "10. How many antique, classic or collectible vehicles are owned (titled or registered to) by you or any member of your household? \n",
      "0 \n",
      "++++++++++++[Questions & Ans]++++++++++++++\n",
      "11. How many residential properties owned or rented by you or any member of your household are located outside Canada, Puerto Rico or the U.S. (including US. territories and possessions)? \n",
      "0 \n",
      "++++++++++++[Questions & Ans]++++++++++++++\n",
      "13. a. How many driving incidents have all drivers ages 21 and under had within the last 3 years? \n",
      "N0T_SELECTED, 0 \n",
      "++++++++++++[Questions & Ans]++++++++++++++\n",
      "13. b. How many driving incidents have all drivers ages 80 and over had within the last 3 years? \n",
      "0 \n",
      "++++++++++++[Questions & Ans]++++++++++++++\n",
      "14. How many arrests, citations or lioense suspensions for driving under the influence of alcohol/drugs and/or driving while intoxicated and/or any other alcohol/drug related Incidents have all drivers had in the last 5 years or 3 years in MT? \n",
      "0 \n"
     ]
    }
   ],
   "source": [
    "question_answer = {}\n",
    "for question,answer in zip(questions,written_ans):\n",
    "    # filtering out noisy answer\n",
    "    is_number = re.findall(r\"\\d+\",answer,flags=re.IGNORECASE)\n",
    "    if is_number:\n",
    "        question_answer[question] = answer\n",
    "        print(\"++++++++++++[Questions & Ans]++++++++++++++\")\n",
    "        print(question)\n",
    "        print(answer)"
   ]
  },
  {
   "cell_type": "code",
   "execution_count": null,
   "id": "composite-desktop",
   "metadata": {},
   "outputs": [],
   "source": []
  }
 ],
 "metadata": {
  "kernelspec": {
   "display_name": "Python 3",
   "language": "python",
   "name": "python3"
  },
  "language_info": {
   "codemirror_mode": {
    "name": "ipython",
    "version": 3
   },
   "file_extension": ".py",
   "mimetype": "text/x-python",
   "name": "python",
   "nbconvert_exporter": "python",
   "pygments_lexer": "ipython3",
   "version": "3.9.2"
  }
 },
 "nbformat": 4,
 "nbformat_minor": 5
}
